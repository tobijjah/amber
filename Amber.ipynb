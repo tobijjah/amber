{
 "cells": [
  {
   "cell_type": "markdown",
   "metadata": {},
   "source": [
    "##### Prerequisites "
   ]
  },
  {
   "cell_type": "markdown",
   "metadata": {},
   "source": [
    "# A case study on deforestation through illegal amber mining in Ukraine\n"
   ]
  },
  {
   "cell_type": "markdown",
   "metadata": {},
   "source": [
    "##### Abstract"
   ]
  },
  {
   "cell_type": "markdown",
   "metadata": {},
   "source": [
    "## 1. Introduction"
   ]
  },
  {
   "cell_type": "markdown",
   "metadata": {},
   "source": [
    "## 2. Data and Methods"
   ]
  },
  {
   "cell_type": "markdown",
   "metadata": {},
   "source": [
    "### 2.1 Data"
   ]
  },
  {
   "cell_type": "markdown",
   "metadata": {},
   "source": [
    "### 2.2 Methods\n",
    "#### 2.2.1 Preparation"
   ]
  },
  {
   "cell_type": "code",
   "execution_count": 1,
   "metadata": {},
   "outputs": [
    {
     "data": {
      "text/html": [
       "\n",
       "    <div class=\"bk-root\">\n",
       "        <a href=\"https://bokeh.pydata.org\" target=\"_blank\" class=\"bk-logo bk-logo-small bk-logo-notebook\"></a>\n",
       "        <span id=\"d8687256-4fab-4e09-8617-933ffbf1ca4c\">Loading BokehJS ...</span>\n",
       "    </div>"
      ]
     },
     "metadata": {},
     "output_type": "display_data"
    },
    {
     "data": {
      "application/javascript": [
       "\n",
       "(function(root) {\n",
       "  function now() {\n",
       "    return new Date();\n",
       "  }\n",
       "\n",
       "  var force = true;\n",
       "\n",
       "  if (typeof (root._bokeh_onload_callbacks) === \"undefined\" || force === true) {\n",
       "    root._bokeh_onload_callbacks = [];\n",
       "    root._bokeh_is_loading = undefined;\n",
       "  }\n",
       "\n",
       "  var JS_MIME_TYPE = 'application/javascript';\n",
       "  var HTML_MIME_TYPE = 'text/html';\n",
       "  var EXEC_MIME_TYPE = 'application/vnd.bokehjs_exec.v0+json';\n",
       "  var CLASS_NAME = 'output_bokeh rendered_html';\n",
       "\n",
       "  /**\n",
       "   * Render data to the DOM node\n",
       "   */\n",
       "  function render(props, node) {\n",
       "    var script = document.createElement(\"script\");\n",
       "    node.appendChild(script);\n",
       "  }\n",
       "\n",
       "  /**\n",
       "   * Handle when an output is cleared or removed\n",
       "   */\n",
       "  function handleClearOutput(event, handle) {\n",
       "    var cell = handle.cell;\n",
       "\n",
       "    var id = cell.output_area._bokeh_element_id;\n",
       "    var server_id = cell.output_area._bokeh_server_id;\n",
       "    // Clean up Bokeh references\n",
       "    if (id !== undefined) {\n",
       "      Bokeh.index[id].model.document.clear();\n",
       "      delete Bokeh.index[id];\n",
       "    }\n",
       "\n",
       "    if (server_id !== undefined) {\n",
       "      // Clean up Bokeh references\n",
       "      var cmd = \"from bokeh.io.state import curstate; print(curstate().uuid_to_server['\" + server_id + \"'].get_sessions()[0].document.roots[0]._id)\";\n",
       "      cell.notebook.kernel.execute(cmd, {\n",
       "        iopub: {\n",
       "          output: function(msg) {\n",
       "            var element_id = msg.content.text.trim();\n",
       "            Bokeh.index[element_id].model.document.clear();\n",
       "            delete Bokeh.index[element_id];\n",
       "          }\n",
       "        }\n",
       "      });\n",
       "      // Destroy server and session\n",
       "      var cmd = \"import bokeh.io.notebook as ion; ion.destroy_server('\" + server_id + \"')\";\n",
       "      cell.notebook.kernel.execute(cmd);\n",
       "    }\n",
       "  }\n",
       "\n",
       "  /**\n",
       "   * Handle when a new output is added\n",
       "   */\n",
       "  function handleAddOutput(event, handle) {\n",
       "    var output_area = handle.output_area;\n",
       "    var output = handle.output;\n",
       "\n",
       "    // limit handleAddOutput to display_data with EXEC_MIME_TYPE content only\n",
       "    if ((output.output_type != \"display_data\") || (!output.data.hasOwnProperty(EXEC_MIME_TYPE))) {\n",
       "      return\n",
       "    }\n",
       "\n",
       "    var toinsert = output_area.element.find(\".\" + CLASS_NAME.split(' ')[0]);\n",
       "\n",
       "    if (output.metadata[EXEC_MIME_TYPE][\"id\"] !== undefined) {\n",
       "      toinsert[0].firstChild.textContent = output.data[JS_MIME_TYPE];\n",
       "      // store reference to embed id on output_area\n",
       "      output_area._bokeh_element_id = output.metadata[EXEC_MIME_TYPE][\"id\"];\n",
       "    }\n",
       "    if (output.metadata[EXEC_MIME_TYPE][\"server_id\"] !== undefined) {\n",
       "      var bk_div = document.createElement(\"div\");\n",
       "      bk_div.innerHTML = output.data[HTML_MIME_TYPE];\n",
       "      var script_attrs = bk_div.children[0].attributes;\n",
       "      for (var i = 0; i < script_attrs.length; i++) {\n",
       "        toinsert[0].firstChild.setAttribute(script_attrs[i].name, script_attrs[i].value);\n",
       "      }\n",
       "      // store reference to server id on output_area\n",
       "      output_area._bokeh_server_id = output.metadata[EXEC_MIME_TYPE][\"server_id\"];\n",
       "    }\n",
       "  }\n",
       "\n",
       "  function register_renderer(events, OutputArea) {\n",
       "\n",
       "    function append_mime(data, metadata, element) {\n",
       "      // create a DOM node to render to\n",
       "      var toinsert = this.create_output_subarea(\n",
       "        metadata,\n",
       "        CLASS_NAME,\n",
       "        EXEC_MIME_TYPE\n",
       "      );\n",
       "      this.keyboard_manager.register_events(toinsert);\n",
       "      // Render to node\n",
       "      var props = {data: data, metadata: metadata[EXEC_MIME_TYPE]};\n",
       "      render(props, toinsert[0]);\n",
       "      element.append(toinsert);\n",
       "      return toinsert\n",
       "    }\n",
       "\n",
       "    /* Handle when an output is cleared or removed */\n",
       "    events.on('clear_output.CodeCell', handleClearOutput);\n",
       "    events.on('delete.Cell', handleClearOutput);\n",
       "\n",
       "    /* Handle when a new output is added */\n",
       "    events.on('output_added.OutputArea', handleAddOutput);\n",
       "\n",
       "    /**\n",
       "     * Register the mime type and append_mime function with output_area\n",
       "     */\n",
       "    OutputArea.prototype.register_mime_type(EXEC_MIME_TYPE, append_mime, {\n",
       "      /* Is output safe? */\n",
       "      safe: true,\n",
       "      /* Index of renderer in `output_area.display_order` */\n",
       "      index: 0\n",
       "    });\n",
       "  }\n",
       "\n",
       "  // register the mime type if in Jupyter Notebook environment and previously unregistered\n",
       "  if (root.Jupyter !== undefined) {\n",
       "    var events = require('base/js/events');\n",
       "    var OutputArea = require('notebook/js/outputarea').OutputArea;\n",
       "\n",
       "    if (OutputArea.prototype.mime_types().indexOf(EXEC_MIME_TYPE) == -1) {\n",
       "      register_renderer(events, OutputArea);\n",
       "    }\n",
       "  }\n",
       "\n",
       "  \n",
       "  if (typeof (root._bokeh_timeout) === \"undefined\" || force === true) {\n",
       "    root._bokeh_timeout = Date.now() + 5000;\n",
       "    root._bokeh_failed_load = false;\n",
       "  }\n",
       "\n",
       "  var NB_LOAD_WARNING = {'data': {'text/html':\n",
       "     \"<div style='background-color: #fdd'>\\n\"+\n",
       "     \"<p>\\n\"+\n",
       "     \"BokehJS does not appear to have successfully loaded. If loading BokehJS from CDN, this \\n\"+\n",
       "     \"may be due to a slow or bad network connection. Possible fixes:\\n\"+\n",
       "     \"</p>\\n\"+\n",
       "     \"<ul>\\n\"+\n",
       "     \"<li>re-rerun `output_notebook()` to attempt to load from CDN again, or</li>\\n\"+\n",
       "     \"<li>use INLINE resources instead, as so:</li>\\n\"+\n",
       "     \"</ul>\\n\"+\n",
       "     \"<code>\\n\"+\n",
       "     \"from bokeh.resources import INLINE\\n\"+\n",
       "     \"output_notebook(resources=INLINE)\\n\"+\n",
       "     \"</code>\\n\"+\n",
       "     \"</div>\"}};\n",
       "\n",
       "  function display_loaded() {\n",
       "    var el = document.getElementById(\"d8687256-4fab-4e09-8617-933ffbf1ca4c\");\n",
       "    if (el != null) {\n",
       "      el.textContent = \"BokehJS is loading...\";\n",
       "    }\n",
       "    if (root.Bokeh !== undefined) {\n",
       "      if (el != null) {\n",
       "        el.textContent = \"BokehJS \" + root.Bokeh.version + \" successfully loaded.\";\n",
       "      }\n",
       "    } else if (Date.now() < root._bokeh_timeout) {\n",
       "      setTimeout(display_loaded, 100)\n",
       "    }\n",
       "  }\n",
       "\n",
       "\n",
       "  function run_callbacks() {\n",
       "    try {\n",
       "      root._bokeh_onload_callbacks.forEach(function(callback) { callback() });\n",
       "    }\n",
       "    finally {\n",
       "      delete root._bokeh_onload_callbacks\n",
       "    }\n",
       "    console.info(\"Bokeh: all callbacks have finished\");\n",
       "  }\n",
       "\n",
       "  function load_libs(js_urls, callback) {\n",
       "    root._bokeh_onload_callbacks.push(callback);\n",
       "    if (root._bokeh_is_loading > 0) {\n",
       "      console.log(\"Bokeh: BokehJS is being loaded, scheduling callback at\", now());\n",
       "      return null;\n",
       "    }\n",
       "    if (js_urls == null || js_urls.length === 0) {\n",
       "      run_callbacks();\n",
       "      return null;\n",
       "    }\n",
       "    console.log(\"Bokeh: BokehJS not loaded, scheduling load and callback at\", now());\n",
       "    root._bokeh_is_loading = js_urls.length;\n",
       "    for (var i = 0; i < js_urls.length; i++) {\n",
       "      var url = js_urls[i];\n",
       "      var s = document.createElement('script');\n",
       "      s.src = url;\n",
       "      s.async = false;\n",
       "      s.onreadystatechange = s.onload = function() {\n",
       "        root._bokeh_is_loading--;\n",
       "        if (root._bokeh_is_loading === 0) {\n",
       "          console.log(\"Bokeh: all BokehJS libraries loaded\");\n",
       "          run_callbacks()\n",
       "        }\n",
       "      };\n",
       "      s.onerror = function() {\n",
       "        console.warn(\"failed to load library \" + url);\n",
       "      };\n",
       "      console.log(\"Bokeh: injecting script tag for BokehJS library: \", url);\n",
       "      document.getElementsByTagName(\"head\")[0].appendChild(s);\n",
       "    }\n",
       "  };var element = document.getElementById(\"d8687256-4fab-4e09-8617-933ffbf1ca4c\");\n",
       "  if (element == null) {\n",
       "    console.log(\"Bokeh: ERROR: autoload.js configured with elementid 'd8687256-4fab-4e09-8617-933ffbf1ca4c' but no matching script tag was found. \")\n",
       "    return false;\n",
       "  }\n",
       "\n",
       "  var js_urls = [\"https://cdn.pydata.org/bokeh/release/bokeh-0.12.13.min.js\", \"https://cdn.pydata.org/bokeh/release/bokeh-widgets-0.12.13.min.js\", \"https://cdn.pydata.org/bokeh/release/bokeh-tables-0.12.13.min.js\", \"https://cdn.pydata.org/bokeh/release/bokeh-gl-0.12.13.min.js\"];\n",
       "\n",
       "  var inline_js = [\n",
       "    function(Bokeh) {\n",
       "      Bokeh.set_log_level(\"info\");\n",
       "    },\n",
       "    \n",
       "    function(Bokeh) {\n",
       "      \n",
       "    },\n",
       "    function(Bokeh) {\n",
       "      console.log(\"Bokeh: injecting CSS: https://cdn.pydata.org/bokeh/release/bokeh-0.12.13.min.css\");\n",
       "      Bokeh.embed.inject_css(\"https://cdn.pydata.org/bokeh/release/bokeh-0.12.13.min.css\");\n",
       "      console.log(\"Bokeh: injecting CSS: https://cdn.pydata.org/bokeh/release/bokeh-widgets-0.12.13.min.css\");\n",
       "      Bokeh.embed.inject_css(\"https://cdn.pydata.org/bokeh/release/bokeh-widgets-0.12.13.min.css\");\n",
       "      console.log(\"Bokeh: injecting CSS: https://cdn.pydata.org/bokeh/release/bokeh-tables-0.12.13.min.css\");\n",
       "      Bokeh.embed.inject_css(\"https://cdn.pydata.org/bokeh/release/bokeh-tables-0.12.13.min.css\");\n",
       "    }\n",
       "  ];\n",
       "\n",
       "  function run_inline_js() {\n",
       "    \n",
       "    if ((root.Bokeh !== undefined) || (force === true)) {\n",
       "      for (var i = 0; i < inline_js.length; i++) {\n",
       "        inline_js[i].call(root, root.Bokeh);\n",
       "      }if (force === true) {\n",
       "        display_loaded();\n",
       "      }} else if (Date.now() < root._bokeh_timeout) {\n",
       "      setTimeout(run_inline_js, 100);\n",
       "    } else if (!root._bokeh_failed_load) {\n",
       "      console.log(\"Bokeh: BokehJS failed to load within specified timeout.\");\n",
       "      root._bokeh_failed_load = true;\n",
       "    } else if (force !== true) {\n",
       "      var cell = $(document.getElementById(\"d8687256-4fab-4e09-8617-933ffbf1ca4c\")).parents('.cell').data().cell;\n",
       "      cell.output_area.append_execute_result(NB_LOAD_WARNING)\n",
       "    }\n",
       "\n",
       "  }\n",
       "\n",
       "  if (root._bokeh_is_loading === 0) {\n",
       "    console.log(\"Bokeh: BokehJS loaded, going straight to plotting\");\n",
       "    run_inline_js();\n",
       "  } else {\n",
       "    load_libs(js_urls, function() {\n",
       "      console.log(\"Bokeh: BokehJS plotting callback run at\", now());\n",
       "      run_inline_js();\n",
       "    });\n",
       "  }\n",
       "}(window));"
      ],
      "application/vnd.bokehjs_load.v0+json": "\n(function(root) {\n  function now() {\n    return new Date();\n  }\n\n  var force = true;\n\n  if (typeof (root._bokeh_onload_callbacks) === \"undefined\" || force === true) {\n    root._bokeh_onload_callbacks = [];\n    root._bokeh_is_loading = undefined;\n  }\n\n  \n\n  \n  if (typeof (root._bokeh_timeout) === \"undefined\" || force === true) {\n    root._bokeh_timeout = Date.now() + 5000;\n    root._bokeh_failed_load = false;\n  }\n\n  var NB_LOAD_WARNING = {'data': {'text/html':\n     \"<div style='background-color: #fdd'>\\n\"+\n     \"<p>\\n\"+\n     \"BokehJS does not appear to have successfully loaded. If loading BokehJS from CDN, this \\n\"+\n     \"may be due to a slow or bad network connection. Possible fixes:\\n\"+\n     \"</p>\\n\"+\n     \"<ul>\\n\"+\n     \"<li>re-rerun `output_notebook()` to attempt to load from CDN again, or</li>\\n\"+\n     \"<li>use INLINE resources instead, as so:</li>\\n\"+\n     \"</ul>\\n\"+\n     \"<code>\\n\"+\n     \"from bokeh.resources import INLINE\\n\"+\n     \"output_notebook(resources=INLINE)\\n\"+\n     \"</code>\\n\"+\n     \"</div>\"}};\n\n  function display_loaded() {\n    var el = document.getElementById(\"d8687256-4fab-4e09-8617-933ffbf1ca4c\");\n    if (el != null) {\n      el.textContent = \"BokehJS is loading...\";\n    }\n    if (root.Bokeh !== undefined) {\n      if (el != null) {\n        el.textContent = \"BokehJS \" + root.Bokeh.version + \" successfully loaded.\";\n      }\n    } else if (Date.now() < root._bokeh_timeout) {\n      setTimeout(display_loaded, 100)\n    }\n  }\n\n\n  function run_callbacks() {\n    try {\n      root._bokeh_onload_callbacks.forEach(function(callback) { callback() });\n    }\n    finally {\n      delete root._bokeh_onload_callbacks\n    }\n    console.info(\"Bokeh: all callbacks have finished\");\n  }\n\n  function load_libs(js_urls, callback) {\n    root._bokeh_onload_callbacks.push(callback);\n    if (root._bokeh_is_loading > 0) {\n      console.log(\"Bokeh: BokehJS is being loaded, scheduling callback at\", now());\n      return null;\n    }\n    if (js_urls == null || js_urls.length === 0) {\n      run_callbacks();\n      return null;\n    }\n    console.log(\"Bokeh: BokehJS not loaded, scheduling load and callback at\", now());\n    root._bokeh_is_loading = js_urls.length;\n    for (var i = 0; i < js_urls.length; i++) {\n      var url = js_urls[i];\n      var s = document.createElement('script');\n      s.src = url;\n      s.async = false;\n      s.onreadystatechange = s.onload = function() {\n        root._bokeh_is_loading--;\n        if (root._bokeh_is_loading === 0) {\n          console.log(\"Bokeh: all BokehJS libraries loaded\");\n          run_callbacks()\n        }\n      };\n      s.onerror = function() {\n        console.warn(\"failed to load library \" + url);\n      };\n      console.log(\"Bokeh: injecting script tag for BokehJS library: \", url);\n      document.getElementsByTagName(\"head\")[0].appendChild(s);\n    }\n  };var element = document.getElementById(\"d8687256-4fab-4e09-8617-933ffbf1ca4c\");\n  if (element == null) {\n    console.log(\"Bokeh: ERROR: autoload.js configured with elementid 'd8687256-4fab-4e09-8617-933ffbf1ca4c' but no matching script tag was found. \")\n    return false;\n  }\n\n  var js_urls = [\"https://cdn.pydata.org/bokeh/release/bokeh-0.12.13.min.js\", \"https://cdn.pydata.org/bokeh/release/bokeh-widgets-0.12.13.min.js\", \"https://cdn.pydata.org/bokeh/release/bokeh-tables-0.12.13.min.js\", \"https://cdn.pydata.org/bokeh/release/bokeh-gl-0.12.13.min.js\"];\n\n  var inline_js = [\n    function(Bokeh) {\n      Bokeh.set_log_level(\"info\");\n    },\n    \n    function(Bokeh) {\n      \n    },\n    function(Bokeh) {\n      console.log(\"Bokeh: injecting CSS: https://cdn.pydata.org/bokeh/release/bokeh-0.12.13.min.css\");\n      Bokeh.embed.inject_css(\"https://cdn.pydata.org/bokeh/release/bokeh-0.12.13.min.css\");\n      console.log(\"Bokeh: injecting CSS: https://cdn.pydata.org/bokeh/release/bokeh-widgets-0.12.13.min.css\");\n      Bokeh.embed.inject_css(\"https://cdn.pydata.org/bokeh/release/bokeh-widgets-0.12.13.min.css\");\n      console.log(\"Bokeh: injecting CSS: https://cdn.pydata.org/bokeh/release/bokeh-tables-0.12.13.min.css\");\n      Bokeh.embed.inject_css(\"https://cdn.pydata.org/bokeh/release/bokeh-tables-0.12.13.min.css\");\n    }\n  ];\n\n  function run_inline_js() {\n    \n    if ((root.Bokeh !== undefined) || (force === true)) {\n      for (var i = 0; i < inline_js.length; i++) {\n        inline_js[i].call(root, root.Bokeh);\n      }if (force === true) {\n        display_loaded();\n      }} else if (Date.now() < root._bokeh_timeout) {\n      setTimeout(run_inline_js, 100);\n    } else if (!root._bokeh_failed_load) {\n      console.log(\"Bokeh: BokehJS failed to load within specified timeout.\");\n      root._bokeh_failed_load = true;\n    } else if (force !== true) {\n      var cell = $(document.getElementById(\"d8687256-4fab-4e09-8617-933ffbf1ca4c\")).parents('.cell').data().cell;\n      cell.output_area.append_execute_result(NB_LOAD_WARNING)\n    }\n\n  }\n\n  if (root._bokeh_is_loading === 0) {\n    console.log(\"Bokeh: BokehJS loaded, going straight to plotting\");\n    run_inline_js();\n  } else {\n    load_libs(js_urls, function() {\n      console.log(\"Bokeh: BokehJS plotting callback run at\", now());\n      run_inline_js();\n    });\n  }\n}(window));"
     },
     "metadata": {},
     "output_type": "display_data"
    }
   ],
   "source": [
    "# third party libs\n",
    "import os\n",
    "import re\n",
    "import rasterio\n",
    "import numpy as np\n",
    "import pandas as pd\n",
    "import geopandas as gpd\n",
    "from pathlib import Path\n",
    "from collections import namedtuple\n",
    "from shapely.geometry import Point\n",
    "from sklearn.ensemble import RandomForestClassifier\n",
    "from sklearn.discriminant_analysis import LinearDiscriminantAnalysis\n",
    "from bokeh.plotting import show, figure, gridplot, output_notebook, ColumnDataSource\n",
    "\n",
    "# custom libs\n",
    "from src.landsat import LandsatArchive\n",
    "from src.utils import (get_data_dir,\n",
    "                       bi,\n",
    "                       ndvi,\n",
    "                       LTK_cloud_masking,\n",
    "                       RANDOM,\n",
    "                       l7_radiance,\n",
    "                       l7_reflectance,\n",
    "                       write,\n",
    "                       clip_raster,\n",
    "                       reproject_from,\n",
    "                       reproject_like,\n",
    "                       draw_raster_sample,\n",
    "                       confusion_matrix)\n",
    "\n",
    "\n",
    "# make source data folders\n",
    "directories = \"\"\"\n",
    "data\n",
    "data.core\n",
    "data.proc\n",
    "data.prep\n",
    "data.arch\n",
    "\"\"\"\n",
    "\n",
    "for item in directories.split():\n",
    "    path = os.sep.join(item.split('.'))\n",
    "    try:\n",
    "        os.mkdir(path)\n",
    "    except OSError:\n",
    "        pass\n",
    "\n",
    "# convenient access to data dir\n",
    "DIRS = get_data_dir(str(Path('data').resolve()))\n",
    "\n",
    "# pyproj definition of WGS84\n",
    "WGS84 = {'init': 'epsg:4326'}\n",
    "\n",
    "# area of interest\n",
    "Bounds = namedtuple('Bounds', 'left bottom right top')\n",
    "AIO = Bounds(25.6, 51.0, 27.6, 51.8)\n",
    "\n",
    "# total number of threads to use\n",
    "THREADS = 12\n",
    "\n",
    "# force bokeh notebook output\n",
    "output_notebook()"
   ]
  },
  {
   "cell_type": "markdown",
   "metadata": {},
   "source": [
    "#### 2.2.2 Tree cover reference layer"
   ]
  },
  {
   "cell_type": "code",
   "execution_count": 2,
   "metadata": {
    "scrolled": true
   },
   "outputs": [
    {
     "name": "stdout",
     "output_type": "stream",
     "text": [
      "\n",
      "        Spacecraft: LANDSAT_7\n",
      "        Sensor: ETM\n",
      "        Date acquired: 2000-06-12\n",
      "        Cloud cover: 1.0\n",
      "        Quality: 9\n",
      "        \n"
     ]
    }
   ],
   "source": [
    "# load \n",
    "src = DIRS.core / 'l7_2000' # l7_200\n",
    "\n",
    "if src.is_dir():\n",
    "    l7_2000 = LandsatArchive.read(src)\n",
    "else:\n",
    "    l7_2000 = LandsatArchive.read(DIRS.arch / 'LE07_L1TP_184024_20000612_20170211_01_T1.tar.gz',\n",
    "                                  extract_to=DIRS.core / 'l7_2000')\n",
    "    \n",
    "print(l7_2000)"
   ]
  },
  {
   "cell_type": "code",
   "execution_count": 3,
   "metadata": {
    "collapsed": true
   },
   "outputs": [],
   "source": [
    "# compute band metrics and compose band stack\n",
    "regex = re.compile(r'.*LE07.*_B(\\d)\\.TIF')\n",
    "\n",
    "band_stack = []\n",
    "for name in 'red green blue nir'.split():\n",
    "    img = l7_2000[name]\n",
    "    img_data = img.read(1)\n",
    "    band_idx = regex.match(img.name).group(1)\n",
    "        \n",
    "    RMIN = l7_2000.metadata.get('MIN_MAX_RADIANCE', 'RADIANCE_MINIMUM_BAND_%s' % band_idx)\n",
    "    RMAX = l7_2000.metadata.get('MIN_MAX_RADIANCE', 'RADIANCE_MAXIMUM_BAND_%s' % band_idx)\n",
    "    QCMIN = l7_2000.metadata.get('MIN_MAX_PIXEL_VALUE', 'QUANTIZE_CAL_MIN_BAND_%s' % band_idx)\n",
    "    QCMAX = l7_2000.metadata.get('MIN_MAX_PIXEL_VALUE', 'QUANTIZE_CAL_MAX_BAND_%s' % band_idx)\n",
    "    ESD = l7_2000.metadata.get('IMAGE_ATTRIBUTES', 'EARTH_SUN_DISTANCE')\n",
    "    SE = l7_2000.metadata.get('IMAGE_ATTRIBUTES', 'SUN_ELEVATION')\n",
    "\n",
    "    radiance = l7_radiance(img_data, QCMIN, QCMAX, RMIN, RMAX, src_nodata=0)\n",
    "    reflectance = l7_reflectance(radiance, ESD, SE, int(band_idx), src_nodata=0.0)\n",
    "    \n",
    "    band_stack.append(reflectance)\n",
    "    img.close()\n",
    "\n",
    "ndvi_data = ndvi(band_stack[0], band_stack[3])\n",
    "\n",
    "band_stack.append(ndvi_data)\n",
    "rgbn_data = np.array(band_stack, dtype=np.float32)"
   ]
  },
  {
   "cell_type": "code",
   "execution_count": 4,
   "metadata": {
    "collapsed": true
   },
   "outputs": [],
   "source": [
    "# reproject and clip\n",
    "img = l7_2000['red']\n",
    "crs = img.crs\n",
    "transform = img.transform\n",
    "img.close()\n",
    "\n",
    "rgbn_path = write(rgbn_data, str(DIRS.proc / 'reference_image.tif'), \n",
    "                  driver='GTiff', transform=transform, \n",
    "                  crs=crs)\n",
    "\n",
    "reproject = reproject_from(rgbn_path, WGS84, rgbn_path)\n",
    "\n",
    "clip, transform = clip_raster(reproject, AIO)\n",
    "\n",
    "clip_path = write(clip, reproject, \n",
    "                  driver='GTiff', transform=transform, \n",
    "                  crs=WGS84)"
   ]
  },
  {
   "cell_type": "code",
   "execution_count": 5,
   "metadata": {
    "collapsed": true,
    "scrolled": false
   },
   "outputs": [],
   "source": [
    "# sample image\n",
    "ref_img = rasterio.open(clip_path, 'r')\n",
    "ref_data = ref_img.read()\n",
    "transform = ref_img.transform\n",
    "\n",
    "sample = draw_raster_sample(ref_data, affine=transform, samples=500,\n",
    "                            columns=['red', 'green', 'blue', 'nir', 'ndvi'])\n",
    "\n",
    "points = [Point(coor.x, coor.y) \n",
    "          for idx, coor in sample[['x', 'y']].iterrows()]\n",
    "\n",
    "geometry = gpd.GeoSeries(points)\n",
    "geo_df = gpd.GeoDataFrame(sample, geometry=geometry)\n",
    "geo_df.crs = WGS84\n",
    "\n",
    "geo_df.to_file(str(DIRS.proc / 'samples.shp'))"
   ]
  },
  {
   "cell_type": "code",
   "execution_count": 6,
   "metadata": {
    "scrolled": true
   },
   "outputs": [
    {
     "name": "stderr",
     "output_type": "stream",
     "text": [
      "[Parallel(n_jobs=12)]: Done  26 tasks      | elapsed:    0.0s\n",
      "[Parallel(n_jobs=12)]: Done 176 tasks      | elapsed:    0.1s\n",
      "[Parallel(n_jobs=12)]: Done 426 tasks      | elapsed:    0.3s\n",
      "[Parallel(n_jobs=12)]: Done 776 tasks      | elapsed:    0.6s\n",
      "[Parallel(n_jobs=12)]: Done 1000 out of 1000 | elapsed:    0.7s finished\n",
      "[Parallel(n_jobs=12)]: Done  26 tasks      | elapsed:    0.0s\n",
      "[Parallel(n_jobs=12)]: Done 176 tasks      | elapsed:    0.0s\n",
      "[Parallel(n_jobs=12)]: Done 426 tasks      | elapsed:    0.1s\n",
      "[Parallel(n_jobs=12)]: Done 776 tasks      | elapsed:    0.1s\n",
      "[Parallel(n_jobs=12)]: Done 1000 out of 1000 | elapsed:    0.2s finished\n"
     ]
    }
   ],
   "source": [
    "# train rf\n",
    "samples = gpd.read_file(str(DIRS.prep / 'forest.shp'))\n",
    "samples['is_train'] = RANDOM.uniform(size=len(samples)) <= 0.75\n",
    "train, test = samples[samples.is_train == True], samples[samples.is_train == False]\n",
    "\n",
    "features = train.columns[:5]\n",
    "\n",
    "clf = RandomForestClassifier(n_jobs=THREADS, random_state=RANDOM, n_estimators=1000, verbose=1)\n",
    "\n",
    "clf.fit(train[features], train.label)\n",
    "\n",
    "assessment = clf.predict(test[features])"
   ]
  },
  {
   "cell_type": "code",
   "execution_count": 7,
   "metadata": {},
   "outputs": [
    {
     "name": "stderr",
     "output_type": "stream",
     "text": [
      "[Parallel(n_jobs=12)]: Done  26 tasks      | elapsed:    2.6s\n",
      "[Parallel(n_jobs=12)]: Done 176 tasks      | elapsed:   14.0s\n",
      "[Parallel(n_jobs=12)]: Done 426 tasks      | elapsed:   32.8s\n",
      "[Parallel(n_jobs=12)]: Done 776 tasks      | elapsed:   58.9s\n",
      "[Parallel(n_jobs=12)]: Done 1000 out of 1000 | elapsed:  1.3min finished\n"
     ]
    }
   ],
   "source": [
    "# classification\n",
    "px_matrix = ref_data.T.reshape((ref_data.shape[1]*ref_data.shape[2],ref_data.shape[0]))\n",
    "df = pd.DataFrame.from_records(px_matrix, columns=features)\n",
    "\n",
    "classified = clf.predict(df[features])\n",
    "\n",
    "classified = np.reshape(classified, (ref_data.shape[2], ref_data.shape[1])).T\n",
    "classified = classified.astype(np.uint8)\n",
    "\n",
    "treecover_2000 = write(classified, str(DIRS.proc / 'treecover_2000.tif'), crs=WGS84, driver='GTiff',\n",
    "                       transform=transform, compress='lzw')"
   ]
  },
  {
   "cell_type": "code",
   "execution_count": 9,
   "metadata": {
    "collapsed": true
   },
   "outputs": [],
   "source": [
    "df = pd.DataFrame.from_records(confusion_matrix(test.label, assessment),\n",
    "                               columns=['Condition positive', 'Condition negative'],\n",
    "                               index=['Prediction positive', 'Prediction negative'])\n",
    "df.to_csv(str(DIRS.proc / 'assess.csv'))"
   ]
  },
  {
   "cell_type": "markdown",
   "metadata": {},
   "source": [
    "#### 2.2.3 Detection of amber mining sites"
   ]
  },
  {
   "cell_type": "markdown",
   "metadata": {},
   "source": [
    "- classify and consider only classes over 90 % probability\n",
    "- eliminate all where bi or ndvi is -1, 0, or 1"
   ]
  },
  {
   "cell_type": "code",
   "execution_count": 37,
   "metadata": {
    "collapsed": true
   },
   "outputs": [],
   "source": [
    "# load\n",
    "if len(os.listdir(str(DIRS.core))) > 1:\n",
    "    names = os.listdir(str(DIRS.core))\n",
    "    is_archive = False\n",
    "\n",
    "else:\n",
    "    names = os.listdir(str(DIRS.arch))\n",
    "    is_archive = True\n",
    "\n",
    "landsat = []\n",
    "for name in names:\n",
    "    if is_archive:\n",
    "        head = name.split('.')[0]\n",
    "        obj = LandsatArchive.read(DIRS.arch / name, extract_to=DIRS.core / head)\n",
    "    \n",
    "    else:\n",
    "        obj = LandsatArchive.read(DIRS.core / name)\n",
    "    \n",
    "    spacecraft = obj.metadata.get('product_metadata', 'spacecraft_id') \n",
    "    year = obj.metadata.get('product_metadata', 'date_acquired').split('-')[0]\n",
    "    \n",
    "    obj.alias = year\n",
    "    \n",
    "    if spacecraft == 'LANDSAT_7' and int(year) > 2000:\n",
    "        landsat.append(obj)\n",
    "\n",
    "landsat = sorted(landsat, key=lambda x: x.alias)"
   ]
  },
  {
   "cell_type": "code",
   "execution_count": 30,
   "metadata": {
    "collapsed": true
   },
   "outputs": [],
   "source": [
    "# compute band metrics ndvi and bi\n",
    "regex = re.compile(r'.*LE07.*_B(\\d)\\.TIF')\n",
    "\n",
    "images = []\n",
    "for data in landsat:\n",
    "    img = data['red']\n",
    "    crs = img.crs\n",
    "    transform = img.transform\n",
    "    img.close()\n",
    "    \n",
    "    band_stack = []\n",
    "    \n",
    "    for name in 'red blue nir swir2'.split():\n",
    "        img = data[name]\n",
    "        img_data = img.read(1)\n",
    "        band_idx = regex.match(img.name).group(1)\n",
    "        \n",
    "        RMIN = data.metadata.get('MIN_MAX_RADIANCE', 'RADIANCE_MINIMUM_BAND_%s' % band_idx)\n",
    "        RMAX = data.metadata.get('MIN_MAX_RADIANCE', 'RADIANCE_MAXIMUM_BAND_%s' % band_idx)\n",
    "        QCMIN = data.metadata.get('MIN_MAX_PIXEL_VALUE', 'QUANTIZE_CAL_MIN_BAND_%s' % band_idx)\n",
    "        QCMAX = data.metadata.get('MIN_MAX_PIXEL_VALUE', 'QUANTIZE_CAL_MAX_BAND_%s' % band_idx)\n",
    "        ESD = data.metadata.get('IMAGE_ATTRIBUTES', 'EARTH_SUN_DISTANCE')\n",
    "        SE = data.metadata.get('IMAGE_ATTRIBUTES', 'SUN_ELEVATION')\n",
    "\n",
    "        radiance = l7_radiance(img_data, QCMIN, QCMAX, RMIN, RMAX, src_nodata=0)\n",
    "        reflectance = l7_reflectance(radiance, ESD, SE, int(band_idx), src_nodata=0.0)\n",
    "\n",
    "        band_stack.append(reflectance)\n",
    "        img.close()\n",
    "\n",
    "    ndvi_data = ndvi(band_stack[0], band_stack[2])\n",
    "    bi_data = bi(band_stack[3], band_stack[0], band_stack[2], band_stack[1])\n",
    "\n",
    "    rgbn_data = np.array([ndvi_data, bi_data], dtype=np.float32)\n",
    "       \n",
    "    cloud_mask = LTK_cloud_masking(*band_stack[:3])\n",
    "\n",
    "    for idx, product in enumerate((rgbn_data, cloud_mask)):\n",
    "        name = '{}_{}.tif'.format(idx, data.alias)\n",
    "        \n",
    "        full_size = write(product, str(DIRS.proc / name), \n",
    "                          driver='GTiff', transform=transform, \n",
    "                          crs=crs)\n",
    "        reproject = reproject_like(str(DIRS.proc / 'reference_image.tif'), full_size, full_size)\n",
    "        \n",
    "        clip, affine = clip_raster(reproject, AIO)\n",
    "        \n",
    "        clip_path = write(clip, reproject, \n",
    "                          driver='GTiff', transform=affine, \n",
    "                          crs=WGS84)\n",
    "        \n",
    "        images.append(clip_path)"
   ]
  },
  {
   "cell_type": "code",
   "execution_count": 38,
   "metadata": {},
   "outputs": [
    {
     "data": {
      "text/plain": [
       "LinearDiscriminantAnalysis(n_components=None, priors=None, shrinkage=None,\n",
       "              solver='lsqr', store_covariance=False, tol=0.0001)"
      ]
     },
     "execution_count": 38,
     "metadata": {},
     "output_type": "execute_result"
    }
   ],
   "source": [
    "# train model\n",
    "samples = gpd.read_file(str(DIRS.prep / 'mines.shp'))\n",
    "\n",
    "features = samples.columns[:2]\n",
    "\n",
    "lda = LinearDiscriminantAnalysis(solver='lsqr')\n",
    "\n",
    "lda.fit(samples[features], samples.label)"
   ]
  },
  {
   "cell_type": "code",
   "execution_count": 39,
   "metadata": {},
   "outputs": [],
   "source": [
    "treecover = rasterio.open(treecover_2000, 'r')\n",
    "transform = treecover.transform\n",
    "cover = treecover.read(1)\n",
    "\n",
    "for idx, values in enumerate(zip(images[::2], images[1::2])):\n",
    "    image, cloud = values\n",
    "    \n",
    "    img = rasterio.open(image)\n",
    "    to_classify = img.read()\n",
    "    \n",
    "    cloud_cover = rasterio.open(cloud)\n",
    "    c = cloud_cover.read(1)\n",
    "    \n",
    "    px_matrix = to_classify.T.reshape((to_classify.shape[1]*to_classify.shape[2],to_classify.shape[0]))\n",
    "    df = pd.DataFrame.from_records(px_matrix, columns=features)\n",
    "    \n",
    "    classified = lda.predict(df[features])\n",
    "\n",
    "    classified = np.reshape(classified, (to_classify.shape[2], to_classify.shape[1])).T\n",
    "    classified = classified.astype(np.uint8)\n",
    "\n",
    "    classified[cover == 0] = 0\n",
    "    classified[to_classify[0] == 0.0] = 0\n",
    "    classified[to_classify[0] == 1.0] = 0\n",
    "    classified[to_classify[0] == -1.0] = 0\n",
    "    classified[to_classify[1] == 0.0] = 0\n",
    "    classified[to_classify[1] == 1.0] = 0\n",
    "    classified[to_classify[1] == -1.0] = 0\n",
    "    \n",
    "    classified[c == 1] = 0\n",
    "    \n",
    "    name = str(idx + 1) + '.tif'\n",
    "    \n",
    "    test = write(classified, str(DIRS.proc / name), crs=WGS84, driver='GTiff',\n",
    "                 transform=transform, compress='lzw')"
   ]
  },
  {
   "cell_type": "markdown",
   "metadata": {},
   "source": [
    "## 3. Results\n",
    "#### 3.1 Tree cover"
   ]
  },
  {
   "cell_type": "markdown",
   "metadata": {},
   "source": [
    "#### 3.2 Amber mining sites"
   ]
  },
  {
   "cell_type": "code",
   "execution_count": 13,
   "metadata": {},
   "outputs": [
    {
     "data": {
      "text/html": [
       "\n",
       "<div class=\"bk-root\">\n",
       "    <div class=\"bk-plotdiv\" id=\"98beee3f-af47-42cc-a607-69e12c4c3758\"></div>\n",
       "</div>"
      ]
     },
     "metadata": {},
     "output_type": "display_data"
    },
    {
     "data": {
      "application/javascript": [
       "(function(root) {\n",
       "  function embed_document(root) {\n",
       "    \n",
       "  var docs_json = {\"fb690832-9d04-4d60-857d-cd0de824f4f5\":{\"roots\":{\"references\":[{\"attributes\":{\"active_drag\":\"auto\",\"active_inspect\":\"auto\",\"active_scroll\":\"auto\",\"active_tap\":\"auto\",\"tools\":[{\"id\":\"14234f74-67ea-4fe5-84e3-dcf5b1e64bf6\",\"type\":\"PanTool\"},{\"id\":\"2276893e-eb13-4bdf-ace7-ab91e039a986\",\"type\":\"WheelZoomTool\"},{\"id\":\"5359beea-a78d-47c1-8ec0-03767c6c8971\",\"type\":\"BoxZoomTool\"},{\"id\":\"3abb4eb6-fa92-4336-aec7-c334c9e26a77\",\"type\":\"SaveTool\"},{\"id\":\"775d502b-23c0-450c-9c51-3c3354d32c8c\",\"type\":\"ResetTool\"},{\"id\":\"06fc6f8d-7514-44a2-9260-886377f67271\",\"type\":\"HelpTool\"}]},\"id\":\"0df7c353-7c2d-426e-90b7-4b9b099e3a87\",\"type\":\"Toolbar\"},{\"attributes\":{\"below\":[{\"id\":\"eb7a8e1a-8b3f-47ab-8141-743e27c8d32c\",\"type\":\"LinearAxis\"}],\"left\":[{\"id\":\"da7eea73-5599-47a2-a0f4-e9e0abded1e1\",\"type\":\"LinearAxis\"}],\"renderers\":[{\"id\":\"eb7a8e1a-8b3f-47ab-8141-743e27c8d32c\",\"type\":\"LinearAxis\"},{\"id\":\"3e9dab31-24cd-44a2-9cd4-8234efee9c4d\",\"type\":\"Grid\"},{\"id\":\"da7eea73-5599-47a2-a0f4-e9e0abded1e1\",\"type\":\"LinearAxis\"},{\"id\":\"6fc7f8d8-7929-48ff-8f14-bcf289a8b759\",\"type\":\"Grid\"},{\"id\":\"6d9ccbd6-fa29-4143-abf5-f285f1646787\",\"type\":\"BoxAnnotation\"},{\"id\":\"b1a6061a-4922-49aa-8cac-8becc91f4834\",\"type\":\"Legend\"},{\"id\":\"0165470b-5604-4046-8fd0-1824ca7e4c77\",\"type\":\"GlyphRenderer\"},{\"id\":\"5d992772-3eb8-4e30-a4c9-c59b044fdc82\",\"type\":\"GlyphRenderer\"}],\"title\":{\"id\":\"b6cdb9a5-ba19-4cc3-8a0a-338833705d46\",\"type\":\"Title\"},\"toolbar\":{\"id\":\"0df7c353-7c2d-426e-90b7-4b9b099e3a87\",\"type\":\"Toolbar\"},\"x_range\":{\"id\":\"1cb3c224-8f90-4f05-9da8-4cc430f9fea2\",\"type\":\"DataRange1d\"},\"x_scale\":{\"id\":\"ecca0285-1d90-4161-ae04-008a48657d56\",\"type\":\"LinearScale\"},\"y_range\":{\"id\":\"57712b4a-4f7d-4bf5-8f59-83e7c206b6d5\",\"type\":\"DataRange1d\"},\"y_scale\":{\"id\":\"38ba2f57-a333-4c77-9333-9ab28c88fc61\",\"type\":\"LinearScale\"}},\"id\":\"881aa957-0be9-48f8-8345-55a8b6d6011b\",\"subtype\":\"Figure\",\"type\":\"Plot\"},{\"attributes\":{\"data_source\":{\"id\":\"996ec826-7967-48a9-b5b2-6222c2d752d5\",\"type\":\"ColumnDataSource\"},\"glyph\":{\"id\":\"8f8541ce-2c7a-4998-8278-7ba9321d40db\",\"type\":\"Circle\"},\"hover_glyph\":null,\"muted_glyph\":null,\"nonselection_glyph\":{\"id\":\"95042694-659b-4877-a117-dbc2ce9cc6d1\",\"type\":\"Circle\"},\"selection_glyph\":null,\"view\":{\"id\":\"dc466f06-463d-4a62-85eb-8fe01528f046\",\"type\":\"CDSView\"}},\"id\":\"0165470b-5604-4046-8fd0-1824ca7e4c77\",\"type\":\"GlyphRenderer\"},{\"attributes\":{\"overlay\":{\"id\":\"6d9ccbd6-fa29-4143-abf5-f285f1646787\",\"type\":\"BoxAnnotation\"}},\"id\":\"5359beea-a78d-47c1-8ec0-03767c6c8971\",\"type\":\"BoxZoomTool\"},{\"attributes\":{\"dimension\":1,\"plot\":{\"id\":\"881aa957-0be9-48f8-8345-55a8b6d6011b\",\"subtype\":\"Figure\",\"type\":\"Plot\"},\"ticker\":{\"id\":\"4415ed58-a7ba-4708-9ea7-cfbc0706b02b\",\"type\":\"BasicTicker\"}},\"id\":\"6fc7f8d8-7929-48ff-8f14-bcf289a8b759\",\"type\":\"Grid\"},{\"attributes\":{\"plot\":{\"id\":\"881aa957-0be9-48f8-8345-55a8b6d6011b\",\"subtype\":\"Figure\",\"type\":\"Plot\"},\"ticker\":{\"id\":\"0538bb45-00b0-4497-b2ce-4bf9238354ea\",\"type\":\"BasicTicker\"}},\"id\":\"3e9dab31-24cd-44a2-9cd4-8234efee9c4d\",\"type\":\"Grid\"},{\"attributes\":{},\"id\":\"775d502b-23c0-450c-9c51-3c3354d32c8c\",\"type\":\"ResetTool\"},{\"attributes\":{},\"id\":\"2276893e-eb13-4bdf-ace7-ab91e039a986\",\"type\":\"WheelZoomTool\"},{\"attributes\":{},\"id\":\"ccb27345-b0c2-4d28-ab8d-3ec27fdfa729\",\"type\":\"BasicTickFormatter\"},{\"attributes\":{\"callback\":null},\"id\":\"57712b4a-4f7d-4bf5-8f59-83e7c206b6d5\",\"type\":\"DataRange1d\"},{\"attributes\":{\"axis_label\":\"NDVI\",\"formatter\":{\"id\":\"ccb27345-b0c2-4d28-ab8d-3ec27fdfa729\",\"type\":\"BasicTickFormatter\"},\"plot\":{\"id\":\"881aa957-0be9-48f8-8345-55a8b6d6011b\",\"subtype\":\"Figure\",\"type\":\"Plot\"},\"ticker\":{\"id\":\"0538bb45-00b0-4497-b2ce-4bf9238354ea\",\"type\":\"BasicTicker\"}},\"id\":\"eb7a8e1a-8b3f-47ab-8141-743e27c8d32c\",\"type\":\"LinearAxis\"},{\"attributes\":{\"callback\":null,\"column_names\":[\"ndvi\",\"index\",\"name\",\"color\",\"label\",\"bi\"],\"data\":{\"bi\":{\"__ndarray__\":\"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\",\"dtype\":\"float64\",\"shape\":[334]},\"color\":[\"green\",\"green\",\"green\",\"green\",\"green\",\"green\",\"green\",\"green\",\"green\",\"green\",\"green\",\"green\",\"green\",\"green\",\"green\",\"green\",\"green\",\"green\",\"green\",\"green\",\"green\",\"green\",\"green\",\"green\",\"green\",\"green\",\"green\",\"green\",\"green\",\"green\",\"green\",\"green\",\"green\",\"green\",\"green\",\"green\",\"green\",\"green\",\"green\",\"green\",\"green\",\"green\",\"green\",\"green\",\"green\",\"green\",\"green\",\"green\",\"green\",\"green\",\"green\",\"green\",\"green\",\"green\",\"green\",\"green\",\"green\",\"green\",\"green\",\"green\",\"green\",\"green\",\"green\",\"green\",\"green\",\"green\",\"green\",\"green\",\"green\",\"green\",\"green\",\"green\",\"green\",\"green\",\"green\",\"green\",\"green\",\"green\",\"green\",\"green\",\"green\",\"green\",\"green\",\"green\",\"green\",\"green\",\"green\",\"green\",\"green\",\"green\",\"green\",\"green\",\"green\",\"green\",\"green\",\"green\",\"green\",\"green\",\"green\",\"green\",\"green\",\"green\",\"green\",\"green\",\"green\",\"green\",\"green\",\"green\",\"green\",\"green\",\"green\",\"green\",\"green\",\"green\",\"green\",\"green\",\"green\",\"green\",\"green\",\"green\",\"green\",\"green\",\"green\",\"green\",\"green\",\"green\",\"green\",\"green\",\"green\",\"green\",\"green\",\"green\",\"green\",\"green\",\"green\",\"green\",\"green\",\"green\",\"green\",\"green\",\"green\",\"green\",\"green\",\"green\",\"green\",\"green\",\"green\",\"green\",\"green\",\"green\",\"green\",\"green\",\"green\",\"green\",\"green\",\"green\",\"green\",\"green\",\"green\",\"green\",\"green\",\"green\",\"green\",\"green\",\"green\",\"green\",\"green\",\"green\",\"green\",\"green\",\"green\",\"green\",\"green\",\"green\",\"green\",\"green\",\"green\",\"green\",\"green\",\"green\",\"green\",\"green\",\"green\",\"green\",\"green\",\"green\",\"green\",\"green\",\"green\",\"green\",\"green\",\"green\",\"green\",\"green\",\"green\",\"green\",\"green\",\"green\",\"green\",\"green\",\"green\",\"green\",\"green\",\"green\",\"green\",\"green\",\"green\",\"green\",\"green\",\"green\",\"green\",\"green\",\"green\",\"green\",\"green\",\"green\",\"green\",\"green\",\"green\",\"green\",\"green\",\"green\",\"green\",\"green\",\"green\",\"green\",\"green\",\"green\",\"green\",\"green\",\"green\",\"green\",\"green\",\"green\",\"green\",\"green\",\"green\",\"green\",\"green\",\"green\",\"green\",\"red\",\"red\",\"red\",\"red\",\"red\",\"red\",\"red\",\"red\",\"red\",\"red\",\"red\",\"red\",\"red\",\"red\",\"red\",\"red\",\"red\",\"red\",\"red\",\"red\",\"red\",\"red\",\"red\",\"red\",\"red\",\"red\",\"red\",\"red\",\"red\",\"red\",\"red\",\"red\",\"red\",\"red\",\"red\",\"red\",\"red\",\"red\",\"red\",\"red\",\"red\",\"red\",\"red\",\"red\",\"red\",\"red\",\"red\",\"red\",\"red\",\"red\",\"red\",\"red\",\"red\",\"red\",\"red\",\"red\",\"red\",\"red\",\"red\",\"red\",\"red\",\"red\",\"red\",\"red\",\"red\",\"red\",\"red\",\"red\",\"red\",\"red\",\"red\",\"red\",\"red\",\"red\",\"red\",\"red\",\"red\",\"red\",\"red\",\"red\",\"red\",\"red\",\"red\",\"red\",\"red\",\"red\",\"red\",\"red\",\"red\",\"red\",\"red\",\"red\",\"red\"],\"index\":[0,1,2,3,4,5,6,7,8,9,10,11,12,13,14,15,16,17,18,19,20,21,22,23,24,25,26,27,28,29,30,31,32,33,34,35,36,37,38,39,40,41,42,43,44,45,46,47,48,49,50,51,52,53,54,55,56,57,58,59,60,61,62,63,64,65,66,67,68,69,70,71,72,73,74,75,76,77,78,79,80,81,82,83,84,85,86,87,88,89,90,91,92,93,94,95,96,97,98,99,100,101,102,103,104,105,106,107,108,109,110,111,112,113,114,115,116,117,118,119,120,121,122,123,124,125,126,127,128,129,130,131,132,133,134,135,136,137,138,139,140,141,142,143,144,145,146,147,148,149,150,151,152,153,154,155,156,157,158,159,160,161,162,163,164,165,166,167,168,169,170,171,172,173,174,175,176,177,178,179,180,181,182,183,184,185,186,187,188,189,190,191,192,193,194,195,196,197,198,199,200,201,202,203,204,205,206,207,208,209,210,211,212,213,214,215,216,217,218,219,220,221,222,223,224,225,226,227,228,229,230,231,232,233,234,235,236,237,238,239,240,241,242,243,244,245,246,247,248,249,250,251,252,253,254,255,256,257,258,259,260,261,262,263,264,265,266,267,268,269,270,271,272,273,274,275,276,277,278,279,280,281,282,283,284,285,286,287,288,289,290,291,292,293,294,295,296,297,298,299,300,301,302,303,304,305,306,307,308,309,310,311,312,313,314,315,316,317,318,319,320,321,322,323,324,325,326,327,328,329,330,331,332,333],\"label\":[0,0,0,0,0,0,0,0,0,0,0,0,0,0,0,0,0,0,0,0,0,0,0,0,0,0,0,0,0,0,0,0,0,0,0,0,0,0,0,0,0,0,0,0,0,0,0,0,0,0,0,0,0,0,0,0,0,0,0,0,0,0,0,0,0,0,0,0,0,0,0,0,0,0,0,0,0,0,0,0,0,0,0,0,0,0,0,0,0,0,0,0,0,0,0,0,0,0,0,0,0,0,0,0,0,0,0,0,0,0,0,0,0,0,0,0,0,0,0,0,0,0,0,0,0,0,0,0,0,0,0,0,0,0,0,0,0,0,0,0,0,0,0,0,0,0,0,0,0,0,0,0,0,0,0,0,0,0,0,0,0,0,0,0,0,0,0,0,0,0,0,0,0,0,0,0,0,0,0,0,0,0,0,0,0,0,0,0,0,0,0,0,0,0,0,0,0,0,0,0,0,0,0,0,0,0,0,0,0,0,0,0,0,0,0,0,0,0,0,0,0,0,0,0,0,0,0,0,0,0,0,0,0,0,0,0,0,0,0,0,0,1,1,1,1,1,1,1,1,1,1,1,1,1,1,1,1,1,1,1,1,1,1,1,1,1,1,1,1,1,1,1,1,1,1,1,1,1,1,1,1,1,1,1,1,1,1,1,1,1,1,1,1,1,1,1,1,1,1,1,1,1,1,1,1,1,1,1,1,1,1,1,1,1,1,1,1,1,1,1,1,1,1,1,1,1,1,1,1,1,1,1,1,1],\"name\":[\"Forest\",\"Forest\",\"Forest\",\"Forest\",\"Forest\",\"Forest\",\"Forest\",\"Forest\",\"Forest\",\"Forest\",\"Forest\",\"Forest\",\"Forest\",\"Forest\",\"Forest\",\"Forest\",\"Forest\",\"Forest\",\"Forest\",\"Forest\",\"Forest\",\"Forest\",\"Forest\",\"Forest\",\"Forest\",\"Forest\",\"Forest\",\"Forest\",\"Forest\",\"Forest\",\"Forest\",\"Forest\",\"Forest\",\"Forest\",\"Forest\",\"Forest\",\"Forest\",\"Forest\",\"Forest\",\"Forest\",\"Forest\",\"Forest\",\"Forest\",\"Forest\",\"Forest\",\"Forest\",\"Forest\",\"Forest\",\"Forest\",\"Forest\",\"Forest\",\"Forest\",\"Forest\",\"Forest\",\"Forest\",\"Forest\",\"Forest\",\"Forest\",\"Forest\",\"Forest\",\"Forest\",\"Forest\",\"Forest\",\"Forest\",\"Forest\",\"Forest\",\"Forest\",\"Forest\",\"Forest\",\"Forest\",\"Forest\",\"Forest\",\"Forest\",\"Forest\",\"Forest\",\"Forest\",\"Forest\",\"Forest\",\"Forest\",\"Forest\",\"Forest\",\"Forest\",\"Forest\",\"Forest\",\"Forest\",\"Forest\",\"Forest\",\"Forest\",\"Forest\",\"Forest\",\"Forest\",\"Forest\",\"Forest\",\"Forest\",\"Forest\",\"Forest\",\"Forest\",\"Forest\",\"Forest\",\"Forest\",\"Forest\",\"Forest\",\"Forest\",\"Forest\",\"Forest\",\"Forest\",\"Forest\",\"Forest\",\"Forest\",\"Forest\",\"Forest\",\"Forest\",\"Forest\",\"Forest\",\"Forest\",\"Forest\",\"Forest\",\"Forest\",\"Forest\",\"Forest\",\"Forest\",\"Forest\",\"Forest\",\"Forest\",\"Forest\",\"Forest\",\"Forest\",\"Forest\",\"Forest\",\"Forest\",\"Forest\",\"Forest\",\"Forest\",\"Forest\",\"Forest\",\"Forest\",\"Forest\",\"Forest\",\"Forest\",\"Forest\",\"Forest\",\"Forest\",\"Forest\",\"Forest\",\"Forest\",\"Forest\",\"Forest\",\"Forest\",\"Forest\",\"Forest\",\"Forest\",\"Forest\",\"Forest\",\"Forest\",\"Forest\",\"Forest\",\"Forest\",\"Forest\",\"Forest\",\"Forest\",\"Forest\",\"Forest\",\"Forest\",\"Forest\",\"Forest\",\"Forest\",\"Forest\",\"Forest\",\"Forest\",\"Forest\",\"Forest\",\"Forest\",\"Forest\",\"Forest\",\"Forest\",\"Forest\",\"Forest\",\"Forest\",\"Forest\",\"Forest\",\"Forest\",\"Forest\",\"Forest\",\"Forest\",\"Forest\",\"Forest\",\"Forest\",\"Forest\",\"Forest\",\"Forest\",\"Forest\",\"Forest\",\"Forest\",\"Forest\",\"Forest\",\"Forest\",\"Forest\",\"Forest\",\"Forest\",\"Forest\",\"Forest\",\"Forest\",\"Forest\",\"Forest\",\"Forest\",\"Forest\",\"Forest\",\"Forest\",\"Forest\",\"Forest\",\"Forest\",\"Forest\",\"Forest\",\"Forest\",\"Forest\",\"Forest\",\"Forest\",\"Forest\",\"Forest\",\"Forest\",\"Forest\",\"Forest\",\"Forest\",\"Forest\",\"Forest\",\"Forest\",\"Forest\",\"Forest\",\"Forest\",\"Forest\",\"Forest\",\"Forest\",\"Forest\",\"Forest\",\"Forest\",\"Forest\",\"Forest\",\"Forest\",\"Forest\",\"Forest\",\"Forest\",\"Mine\",\"Mine\",\"Mine\",\"Mine\",\"Mine\",\"Mine\",\"Mine\",\"Mine\",\"Mine\",\"Mine\",\"Mine\",\"Mine\",\"Mine\",\"Mine\",\"Mine\",\"Mine\",\"Mine\",\"Mine\",\"Mine\",\"Mine\",\"Mine\",\"Mine\",\"Mine\",\"Mine\",\"Mine\",\"Mine\",\"Mine\",\"Mine\",\"Mine\",\"Mine\",\"Mine\",\"Mine\",\"Mine\",\"Mine\",\"Mine\",\"Mine\",\"Mine\",\"Mine\",\"Mine\",\"Mine\",\"Mine\",\"Mine\",\"Mine\",\"Mine\",\"Mine\",\"Mine\",\"Mine\",\"Mine\",\"Mine\",\"Mine\",\"Mine\",\"Mine\",\"Mine\",\"Mine\",\"Mine\",\"Mine\",\"Mine\",\"Mine\",\"Mine\",\"Mine\",\"Mine\",\"Mine\",\"Mine\",\"Mine\",\"Mine\",\"Mine\",\"Mine\",\"Mine\",\"Mine\",\"Mine\",\"Mine\",\"Mine\",\"Mine\",\"Mine\",\"Mine\",\"Mine\",\"Mine\",\"Mine\",\"Mine\",\"Mine\",\"Mine\",\"Mine\",\"Mine\",\"Mine\",\"Mine\",\"Mine\",\"Mine\",\"Mine\",\"Mine\",\"Mine\",\"Mine\",\"Mine\",\"Mine\"],\"ndvi\":{\"__ndarray__\":\"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\",\"dtype\":\"float64\",\"shape\":[334]}}},\"id\":\"996ec826-7967-48a9-b5b2-6222c2d752d5\",\"type\":\"ColumnDataSource\"},{\"attributes\":{\"source\":{\"id\":\"a0a5c48c-0cfe-4006-963c-de3338d155fa\",\"type\":\"ColumnDataSource\"}},\"id\":\"5de1a7c8-4d01-44e8-a7c8-44b9e15e2738\",\"type\":\"CDSView\"},{\"attributes\":{\"callback\":null,\"column_names\":[\"x\",\"y\"],\"data\":{\"x\":{\"__ndarray__\":\"mpmZmZmZuT+amZmZmZnpPw==\",\"dtype\":\"float64\",\"shape\":[2]},\"y\":{\"__ndarray__\":\"fNj4Zu86z7+OIKCVrnDUvw==\",\"dtype\":\"float64\",\"shape\":[2]}}},\"id\":\"a0a5c48c-0cfe-4006-963c-de3338d155fa\",\"type\":\"ColumnDataSource\"},{\"attributes\":{\"label\":{\"field\":\"name\"},\"renderers\":[{\"id\":\"0165470b-5604-4046-8fd0-1824ca7e4c77\",\"type\":\"GlyphRenderer\"}]},\"id\":\"631670fb-5299-4a13-bb64-9f2a5be5f875\",\"type\":\"LegendItem\"},{\"attributes\":{\"line_alpha\":0.1,\"line_color\":\"#1f77b4\",\"x\":{\"field\":\"x\"},\"y\":{\"field\":\"y\"}},\"id\":\"7a853298-4691-4501-aca8-8779876645df\",\"type\":\"Line\"},{\"attributes\":{},\"id\":\"3abb4eb6-fa92-4336-aec7-c334c9e26a77\",\"type\":\"SaveTool\"},{\"attributes\":{},\"id\":\"ecca0285-1d90-4161-ae04-008a48657d56\",\"type\":\"LinearScale\"},{\"attributes\":{},\"id\":\"14234f74-67ea-4fe5-84e3-dcf5b1e64bf6\",\"type\":\"PanTool\"},{\"attributes\":{},\"id\":\"0538bb45-00b0-4497-b2ce-4bf9238354ea\",\"type\":\"BasicTicker\"},{\"attributes\":{},\"id\":\"06fc6f8d-7514-44a2-9260-886377f67271\",\"type\":\"HelpTool\"},{\"attributes\":{},\"id\":\"38ba2f57-a333-4c77-9333-9ab28c88fc61\",\"type\":\"LinearScale\"},{\"attributes\":{\"fill_alpha\":{\"value\":0.1},\"fill_color\":{\"value\":\"#1f77b4\"},\"line_alpha\":{\"value\":0.1},\"line_color\":{\"value\":\"#1f77b4\"},\"x\":{\"field\":\"ndvi\"},\"y\":{\"field\":\"bi\"}},\"id\":\"95042694-659b-4877-a117-dbc2ce9cc6d1\",\"type\":\"Circle\"},{\"attributes\":{},\"id\":\"fcb1fecc-aae3-4d1c-a04b-b2f8bfc0c252\",\"type\":\"BasicTickFormatter\"},{\"attributes\":{\"plot\":null,\"text\":\"Spectral pattern of mines versus forest\"},\"id\":\"b6cdb9a5-ba19-4cc3-8a0a-338833705d46\",\"type\":\"Title\"},{\"attributes\":{\"axis_label\":\"Bare Index\",\"formatter\":{\"id\":\"fcb1fecc-aae3-4d1c-a04b-b2f8bfc0c252\",\"type\":\"BasicTickFormatter\"},\"plot\":{\"id\":\"881aa957-0be9-48f8-8345-55a8b6d6011b\",\"subtype\":\"Figure\",\"type\":\"Plot\"},\"ticker\":{\"id\":\"4415ed58-a7ba-4708-9ea7-cfbc0706b02b\",\"type\":\"BasicTicker\"}},\"id\":\"da7eea73-5599-47a2-a0f4-e9e0abded1e1\",\"type\":\"LinearAxis\"},{\"attributes\":{\"x\":{\"field\":\"x\"},\"y\":{\"field\":\"y\"}},\"id\":\"7bba63db-fe15-46a1-abf5-a074933084e1\",\"type\":\"Line\"},{\"attributes\":{},\"id\":\"4415ed58-a7ba-4708-9ea7-cfbc0706b02b\",\"type\":\"BasicTicker\"},{\"attributes\":{\"source\":{\"id\":\"996ec826-7967-48a9-b5b2-6222c2d752d5\",\"type\":\"ColumnDataSource\"}},\"id\":\"dc466f06-463d-4a62-85eb-8fe01528f046\",\"type\":\"CDSView\"},{\"attributes\":{\"items\":[{\"id\":\"631670fb-5299-4a13-bb64-9f2a5be5f875\",\"type\":\"LegendItem\"}],\"plot\":{\"id\":\"881aa957-0be9-48f8-8345-55a8b6d6011b\",\"subtype\":\"Figure\",\"type\":\"Plot\"}},\"id\":\"b1a6061a-4922-49aa-8cac-8becc91f4834\",\"type\":\"Legend\"},{\"attributes\":{\"callback\":null},\"id\":\"1cb3c224-8f90-4f05-9da8-4cc430f9fea2\",\"type\":\"DataRange1d\"},{\"attributes\":{\"bottom_units\":\"screen\",\"fill_alpha\":{\"value\":0.5},\"fill_color\":{\"value\":\"lightgrey\"},\"left_units\":\"screen\",\"level\":\"overlay\",\"line_alpha\":{\"value\":1.0},\"line_color\":{\"value\":\"black\"},\"line_dash\":[4,4],\"line_width\":{\"value\":2},\"plot\":null,\"render_mode\":\"css\",\"right_units\":\"screen\",\"top_units\":\"screen\"},\"id\":\"6d9ccbd6-fa29-4143-abf5-f285f1646787\",\"type\":\"BoxAnnotation\"},{\"attributes\":{\"data_source\":{\"id\":\"a0a5c48c-0cfe-4006-963c-de3338d155fa\",\"type\":\"ColumnDataSource\"},\"glyph\":{\"id\":\"7bba63db-fe15-46a1-abf5-a074933084e1\",\"type\":\"Line\"},\"hover_glyph\":null,\"muted_glyph\":null,\"nonselection_glyph\":{\"id\":\"7a853298-4691-4501-aca8-8779876645df\",\"type\":\"Line\"},\"selection_glyph\":null,\"view\":{\"id\":\"5de1a7c8-4d01-44e8-a7c8-44b9e15e2738\",\"type\":\"CDSView\"}},\"id\":\"5d992772-3eb8-4e30-a4c9-c59b044fdc82\",\"type\":\"GlyphRenderer\"},{\"attributes\":{\"fill_color\":{\"field\":\"color\"},\"line_color\":{\"field\":\"color\"},\"x\":{\"field\":\"ndvi\"},\"y\":{\"field\":\"bi\"}},\"id\":\"8f8541ce-2c7a-4998-8278-7ba9321d40db\",\"type\":\"Circle\"}],\"root_ids\":[\"881aa957-0be9-48f8-8345-55a8b6d6011b\"]},\"title\":\"Bokeh Application\",\"version\":\"0.12.13\"}};\n",
       "  var render_items = [{\"docid\":\"fb690832-9d04-4d60-857d-cd0de824f4f5\",\"elementid\":\"98beee3f-af47-42cc-a607-69e12c4c3758\",\"modelid\":\"881aa957-0be9-48f8-8345-55a8b6d6011b\"}];\n",
       "  root.Bokeh.embed.embed_items_notebook(docs_json, render_items);\n",
       "\n",
       "  }\n",
       "  if (root.Bokeh !== undefined) {\n",
       "    embed_document(root);\n",
       "  } else {\n",
       "    var attempts = 0;\n",
       "    var timer = setInterval(function(root) {\n",
       "      if (root.Bokeh !== undefined) {\n",
       "        embed_document(root);\n",
       "        clearInterval(timer);\n",
       "      }\n",
       "      attempts++;\n",
       "      if (attempts > 100) {\n",
       "        console.log(\"Bokeh: ERROR: Unable to run BokehJS code because BokehJS library is missing\")\n",
       "        clearInterval(timer);\n",
       "      }\n",
       "    }, 10, root)\n",
       "  }\n",
       "})(window);"
      ],
      "application/vnd.bokehjs_exec.v0+json": ""
     },
     "metadata": {
      "application/vnd.bokehjs_exec.v0+json": {
       "id": "881aa957-0be9-48f8-8345-55a8b6d6011b"
      }
     },
     "output_type": "display_data"
    }
   ],
   "source": [
    "data = gpd.read_file(str(DIRS.prep / 'mines.shp'))\n",
    "data['color'] = data.apply(lambda row: 'green' if row['label'] == 0 else 'red',\n",
    "                           axis=1)\n",
    "data['name'] = data.apply(lambda row: 'Forest' if row['label'] == 0 else 'Mine',\n",
    "                           axis=1)\n",
    "data.drop('geometry', axis=1, inplace=True)\n",
    "\n",
    "w = lda.coef_[0]\n",
    "a = -w[0] / w[1]\n",
    "xx = np.array([0.1,0.8])\n",
    "yy = a * xx - (lda.intercept_[0]) / w[1]\n",
    "\n",
    "src = ColumnDataSource(data)\n",
    "\n",
    "scatter = figure(title='Spectral pattern of mines versus forest')\n",
    "\n",
    "scatter.circle(x='ndvi', y='bi', color='color', legend='name', source=src)\n",
    "scatter.line(x=xx, y=yy, color='black')\n",
    "\n",
    "scatter.xaxis.axis_label = \"NDVI\"\n",
    "scatter.yaxis.axis_label = \"Bare Index\"\n",
    "\n",
    "show(scatter)"
   ]
  },
  {
   "cell_type": "markdown",
   "metadata": {},
   "source": [
    "## 4. Discussion"
   ]
  }
 ],
 "metadata": {
  "kernelspec": {
   "display_name": "Python 3",
   "language": "python",
   "name": "python3"
  },
  "language_info": {
   "codemirror_mode": {
    "name": "ipython",
    "version": 3
   },
   "file_extension": ".py",
   "mimetype": "text/x-python",
   "name": "python",
   "nbconvert_exporter": "python",
   "pygments_lexer": "ipython3",
   "version": "3.5.2"
  },
  "latex_envs": {
   "LaTeX_envs_menu_present": true,
   "autocomplete": true,
   "bibliofile": "lit.bib",
   "cite_by": "apalike",
   "current_citInitial": 1,
   "eqLabelWithNumbers": true,
   "eqNumInitial": 1,
   "hotkeys": {
    "equation": "Ctrl-E",
    "itemize": "Ctrl-I"
   },
   "labels_anchors": false,
   "latex_user_defs": false,
   "report_style_numbering": false,
   "user_envs_cfg": false
  },
  "toc": {
   "nav_menu": {},
   "number_sections": true,
   "sideBar": true,
   "skip_h1_title": false,
   "toc_cell": true,
   "toc_position": {},
   "toc_section_display": "block",
   "toc_window_display": false
  }
 },
 "nbformat": 4,
 "nbformat_minor": 2
}
